{
 "cells": [
  {
   "cell_type": "code",
   "execution_count": 6,
   "metadata": {},
   "outputs": [
    {
     "name": "stdout",
     "output_type": "stream",
     "text": [
      "F:\\7_Practice\\DLcourse\n"
     ]
    }
   ],
   "source": [
    "# Change directory to VSCode workspace root so that relative path loads work correctly. Turn this addition off with the DataScience.changeDirOnImportExport setting\r\n",
    "# ms-python.python added\r\n",
    "import os\r\n",
    "try:\r\n",
    "\tos.chdir(os.path.join(os.getcwd(), '..'))\r\n",
    "\tprint(os.getcwd())\r\n",
    "except:\n",
    "\tpass\r\n"
   ]
  },
  {
   "cell_type": "markdown",
   "metadata": {},
   "source": [
    "This file creates a multi-class classifier for the Glass identification \n",
    "dataset using logistic regression and gradient descent.\n",
    "\n",
    "A multi-class classifer can be decomposed into multiple binary classifer,\n",
    "so the codes are just wrapped like that.\n",
    "This task seems quite difficult, because the scatter plot of the data points\n",
    "are highly tangled...\n",
    "The overall accuracy is 66.154%\n",
    "\n",
    "The low accuracy may reslut from inadequate or improper features, which leads to these discussions:\n",
    "- Class 1~4 involves the jargon \"float process\", which is a technique to produce flat glass.\n",
    "  In float process, raw materials of glass are melt down and poured onto liquid stannum (Sn), and a dividing boundary forms between the material and Sn, just like oil and water. We can get a piece of flat glass though it.\n",
    "  If we know the proportion of Sn in the glass, the model may be more confident to classify the two process techniques.\n",
    "- Reflective index (RI) belongs to optical features, but we may also want to know the clearness and color of each type of glass, since they are more closely connected with the usage. For example, extre clean glass usually contains little Fe.\n",
    "- The usage of glass depends on both material and process, it will be better if we can know more about the process of those glass, e.g., tempered, surface enhancement and poly-organic-materials. But that seems to be cheating, since the task is to classify the progress based on element composition."
   ]
  },
  {
   "cell_type": "code",
   "execution_count": 57,
   "metadata": {},
   "outputs": [],
   "source": [
    "# import packages\n",
    "import matplotlib.pyplot as plt\n",
    "import numpy as np\n",
    "import pandas as pd\n",
    "import sklearn\n",
    "import sklearn.preprocessing as pre\n",
    "from IPython.core.interactiveshell import InteractiveShell\n",
    "from matplotlib.pyplot import plot\n",
    "from sklearn.model_selection import train_test_split\n",
    "\n",
    "InteractiveShell.ast_node_interactivity = 'all'"
   ]
  },
  {
   "cell_type": "code",
   "execution_count": 58,
   "metadata": {},
   "outputs": [],
   "source": [
    "def binClassifier(XTrain, yTrain, initRate, numEpoch=2000):\n",
    "    theta = np.zeros((XTrain.shape[1]))\n",
    "    lossList = []\n",
    "    learningRate = initRate\n",
    "    for epoch in range(numEpoch):\n",
    "        # forward \n",
    "        logits = np.dot(XTrain, theta)\n",
    "        hyp = 1/(1+np.exp(-logits))\n",
    "        \n",
    "        # uncomment this line to get an error.....\n",
    "        # hyp.shape = (hyp.size, 1) \n",
    "        \n",
    "        crossEntropyLoss = (-yTrain * np.log(hyp) - (1-yTrain)*np.log(1-hyp)).mean()\n",
    "\n",
    "        # backward\n",
    "        grad = (hyp - yTrain)@XTrain/yTrain.size\n",
    "        theta -= learningRate*grad\n",
    "\n",
    "        if epoch % 50 == 0:\n",
    "            lossList.append(crossEntropyLoss)\n",
    "            # print('Epoch', epoch, 'loss:', crossEntropyLoss)\n",
    "            if len(lossList) > 5:\n",
    "                currentLoss = np.array(lossList[-5:-1])\n",
    "                if currentLoss.std()/currentLoss.mean() < 0.01:\n",
    "                    learningRate *= 0.95\n",
    "                    # print('almost converged, lowering learning rate')\n",
    "            if learningRate/initRate < 0.5:\n",
    "                # print('solution already converged, exit training')\n",
    "                break\n",
    "                \n",
    "    return theta\n"
   ]
  },
  {
   "cell_type": "code",
   "execution_count": 59,
   "metadata": {},
   "outputs": [],
   "source": [
    "\n",
    "def multiClassifier(XTrain, yTrain, initRate=0.02):\n",
    "    numClass = np.unique(yTrain)\n",
    "    print(len(numClass), \" classes in total\")\n",
    "    params = np.zeros((len(numClass), XTrain.shape[1]))\n",
    "\n",
    "    for i in numClass:\n",
    "        # print('\\nbegin to train a binary classifer for class ', i)\n",
    "        tempLabel = np.zeros_like(yTrain)\n",
    "        tempLabel[yTrain == numClass[i]] = 1\n",
    "        params[i,:] = binClassifier(XTrain, tempLabel, initRate)\n",
    "    \n",
    "    # print('finish training for all classes!\\n')\n",
    "    return params"
   ]
  },
  {
   "cell_type": "code",
   "execution_count": 60,
   "metadata": {},
   "outputs": [],
   "source": [
    "def predClass(params, XTest, yTest):\n",
    "    featSize = XTest.shape\n",
    "    labelSize = yTest.shape\n",
    "    assert(featSize[0]==labelSize[0])\n",
    "\n",
    "    logits = np.dot(XTest, np.transpose(params)).squeeze()\n",
    "    prob = 1 / (1+np.exp(-logits))\n",
    "\n",
    "    pred = np.argmax(prob, axis=1)\n",
    "    accuracy = np.sum(pred == yTest) / labelSize[0] * 100\n",
    "    \n",
    "    pred[pred>=3]+=1\n",
    "    pred+=1\n",
    "    \n",
    "    return prob, pred, accuracy"
   ]
  },
  {
   "cell_type": "code",
   "execution_count": 61,
   "metadata": {},
   "outputs": [],
   "source": [
    "# load data from the file\n",
    "data = pd.read_csv(\"data/glass_ident/glass.data\",delimiter=',', header=0)\n",
    "#data.head()\n",
    "X, y = data.iloc[:,1:-1], pre.LabelEncoder().fit_transform(data.iloc[:, -1])\n",
    "X, y = np.array(X), np.array(y)\n",
    "XTrain, XTest, yTrain, yTest = train_test_split(X, y, test_size=0.3, random_state=21)\n",
    "featMean, featStd = np.mean(XTrain, axis=0), np.std(XTrain, axis=0)\n",
    "XTrain = (XTrain - featMean) / featStd\n",
    "XTest = (XTest - featMean) / featStd\n",
    "\n",
    "# Concatenate X with a new dimension for bias\n",
    "XTrain = np.concatenate((np.ones((XTrain.shape[0], 1)), XTrain), axis=1)\n",
    "XTest = np.concatenate((np.ones((XTest.shape[0], 1)), XTest), axis=1)"
   ]
  },
  {
   "cell_type": "code",
   "execution_count": 62,
   "metadata": {},
   "outputs": [
    {
     "name": "stdout",
     "output_type": "stream",
     "text": [
      "6  classes in total\n",
      "\n",
      "begin to train a binary classifer for class  0\n",
      "\n",
      "begin to train a binary classifer for class  1\n",
      "\n",
      "begin to train a binary classifer for class  2\n",
      "\n",
      "begin to train a binary classifer for class  3\n",
      "\n",
      "begin to train a binary classifer for class  4\n",
      "\n",
      "begin to train a binary classifer for class  5\n",
      "finish training for all classes!\n",
      "\n",
      "Prediction: [1 1 1 1 2 7 2 1 2 2 2 2 2 2 7 1 2 2 2 1 2 2 1 1 6 1 2 1 1 7 2 2 2 2 2 1 2\n",
      " 2 2 1 2 2 1 2 2 2 2 1 1 7 7 1 1 5 1 2 2 7 7 1 1 2 2 2 1]\n",
      "\n",
      "Accuracy: 66.154%\n"
     ]
    }
   ],
   "source": [
    "initRate = 0.02\n",
    "params = multiClassifier(XTrain, yTrain, initRate)\n",
    "_, preds, accu = predClass(params, XTest, yTest)\n",
    "print(\"Prediction: {}\\n\".format(preds))\n",
    "print(\"Accuracy: {:.3f}%\".format(accu))"
   ]
  },
  {
   "cell_type": "code",
   "execution_count": 49,
   "metadata": {},
   "outputs": [
    {
     "data": {
      "text/plain": [
       "(6, 10)"
      ]
     },
     "execution_count": 49,
     "metadata": {},
     "output_type": "execute_result"
    }
   ],
   "source": [
    "params.shape"
   ]
  },
  {
   "cell_type": "code",
   "execution_count": 50,
   "metadata": {},
   "outputs": [
    {
     "data": {
      "text/plain": [
       "(10,)"
      ]
     },
     "execution_count": 50,
     "metadata": {},
     "output_type": "execute_result"
    },
    {
     "name": "stderr",
     "output_type": "stream",
     "text": [
      "'c' argument looks like a single numeric RGB or RGBA sequence, which should be avoided as value-mapping will have precedence in case its length matches with 'x' & 'y'.  Please use a 2-D array with a single row if you really want to specify the same RGB or RGBA value for all points.\n",
      "'c' argument looks like a single numeric RGB or RGBA sequence, which should be avoided as value-mapping will have precedence in case its length matches with 'x' & 'y'.  Please use a 2-D array with a single row if you really want to specify the same RGB or RGBA value for all points.\n"
     ]
    },
    {
     "data": {
      "text/plain": [
       "Text(0.5, 1.0, 'Train set')"
      ]
     },
     "execution_count": 50,
     "metadata": {},
     "output_type": "execute_result"
    },
    {
     "data": {
      "image/png": "[encoded data removed]",
      "text/plain": [
       "<Figure size 720x576 with 1 Axes>"
      ]
     },
     "metadata": {
      "needs_background": "light"
     },
     "output_type": "display_data"
    }
   ],
   "source": [
    "\n",
    "# I've tried several pairs of features..none of them looks good\n",
    "# if the classifier can successfully distinguish class1 from others, \n",
    "# those points shold lie on the same side of a line..\n",
    "# but reality is tough...\n",
    "import sys, os\n",
    "sys.path.append(os.getcwd())\n",
    "from deeplearning import plot_decision_regions\n",
    "observedClass = 3\n",
    "theta = params[observedClass,:]\n",
    "theta.shape\n",
    "tempY = np.zeros_like(yTrain)\n",
    "tempY[yTrain == observedClass] = 1\n",
    "plot_decision_regions(XTrain[:, 1:], tempY, theta[3:5])\n",
    "plt.title('Train set')\n",
    "plt.show()\n"
   ]
  },
  {
   "cell_type": "code",
   "execution_count": 10,
   "metadata": {},
   "outputs": [
    {
     "data": {
      "text/plain": [
       "array([[ 0, -1, -2, -3, -4],\n",
       "       [ 1,  0, -1, -2, -3],\n",
       "       [ 2,  1,  0, -1, -2],\n",
       "       [ 3,  2,  1,  0, -1],\n",
       "       [ 4,  3,  2,  1,  0]])"
      ]
     },
     "execution_count": 10,
     "metadata": {},
     "output_type": "execute_result"
    },
    {
     "data": {
      "text/plain": [
       "array([[ 0, -1, -2, -3, -4],\n",
       "       [ 1,  0, -1, -2, -3],\n",
       "       [ 2,  1,  0, -1, -2],\n",
       "       [ 3,  2,  1,  0, -1],\n",
       "       [ 4,  3,  2,  1,  0]])"
      ]
     },
     "execution_count": 10,
     "metadata": {},
     "output_type": "execute_result"
    }
   ],
   "source": [
    "a = np.array(range(0,5))\n",
    "b = np.array(range(0,5))\n",
    "\n",
    "a.shape = (5,1)\n",
    "b.shape = (1,5)\n",
    "a-b\n",
    "\n",
    "a.shape = (5,1)\n",
    "b.shape = (5,)\n",
    "a-b"
   ]
  },
  {
   "cell_type": "code",
   "execution_count": null,
   "metadata": {},
   "outputs": [],
   "source": []
  }
 ],
 "metadata": {
  "file_extension": ".py",
  "kernelspec": {
   "display_name": "Python 3",
   "language": "python",
   "name": "python3"
  },
  "language_info": {
   "codemirror_mode": {
    "name": "ipython",
    "version": 3
   },
   "file_extension": ".py",
   "mimetype": "text/x-python",
   "name": "python",
   "nbconvert_exporter": "python",
   "pygments_lexer": "ipython3",
   "version": "3.7.3"
  },
  "mimetype": "text/x-python",
  "name": "python",
  "npconvert_exporter": "python",
  "pygments_lexer": "ipython3",
  "version": 3
 },
 "nbformat": 4,
 "nbformat_minor": 2
}
