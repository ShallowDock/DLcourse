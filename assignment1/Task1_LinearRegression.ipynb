{
 "cells": [
  {
   "cell_type": "code",
   "execution_count": 1,
   "metadata": {},
   "outputs": [
    {
     "name": "stdout",
     "output_type": "stream",
     "text": [
      "F:\\7_Practice\\DLcourse\n"
     ]
    }
   ],
   "source": [
    "# Change directory to VSCode workspace root so that relative path loads work correctly. Turn this addition off with the DataScience.changeDirOnImportExport setting\r\n",
    "# ms-python.python added\r\n",
    "import os\r\n",
    "try:\r\n",
    "\tos.chdir(os.path.join(os.getcwd(), '..'))\r\n",
    "\tprint(os.getcwd())\r\n",
    "except:\r\n",
    "\tpass\r\n"
   ]
  },
  {
   "cell_type": "markdown",
   "metadata": {},
   "source": [
    "This file presents a procedure that trains a linear\n",
    "regression model to predict the published relative performance (PRP)\n",
    "of a CPU, using 8 features from the Computer Hardware Dataset.\n",
    "\n",
    "Importing packages and loading data with pandas completes before\n",
    "the data processing begins. \n",
    "Then comes data encoding, in which non-numerical\n",
    "features are mapped into the non-negative integer space.\n",
    "After that, all data are transfered into numpy.array and split into \n",
    "training set (70%) and testing set (30%) randomly.\n",
    "A gradient descent method is developed to train a parameter vector \n",
    "that minimizes the MSE of the training set.\n",
    "The latest 5 training errors are examed every 50 epoch, and learning\n",
    "rate will be lowered when training error almost converges.\n",
    "The trained model has a testing error at around 2643.\n",
    "Besides, the algebraic solution for the regression task is also\n",
    "calculated for comparison and its testing error is 2634."
   ]
  },
  {
   "cell_type": "code",
   "execution_count": 25,
   "metadata": {},
   "outputs": [],
   "source": [
    "# import packages\n",
    "import matplotlib as plt\n",
    "import numpy as np\n",
    "import pandas as pd\n",
    "import sklearn\n",
    "import sklearn.preprocessing as pre\n",
    "from IPython.core.interactiveshell import InteractiveShell\n",
    "from matplotlib.pyplot import plot\n",
    "from sklearn.model_selection import train_test_split\n",
    "\n",
    "InteractiveShell.ast_node_interactivity = 'all'\n"
   ]
  },
  {
   "cell_type": "code",
   "execution_count": 26,
   "metadata": {},
   "outputs": [
    {
     "data": {
      "text/html": [
       "<div>\n",
       "<style scoped>\n",
       "    .dataframe tbody tr th:only-of-type {\n",
       "        vertical-align: middle;\n",
       "    }\n",
       "\n",
       "    .dataframe tbody tr th {\n",
       "        vertical-align: top;\n",
       "    }\n",
       "\n",
       "    .dataframe thead th {\n",
       "        text-align: right;\n",
       "    }\n",
       "</style>\n",
       "<table border=\"1\" class=\"dataframe\">\n",
       "  <thead>\n",
       "    <tr style=\"text-align: right;\">\n",
       "      <th></th>\n",
       "      <th>vendor</th>\n",
       "      <th>name</th>\n",
       "      <th>MYCT</th>\n",
       "      <th>MMIN</th>\n",
       "      <th>MMAX</th>\n",
       "      <th>CACH</th>\n",
       "      <th>CHMIN</th>\n",
       "      <th>CHMAX</th>\n",
       "      <th>PRP</th>\n",
       "      <th>ERP</th>\n",
       "    </tr>\n",
       "  </thead>\n",
       "  <tbody>\n",
       "    <tr>\n",
       "      <th>0</th>\n",
       "      <td>adviser</td>\n",
       "      <td>32/60</td>\n",
       "      <td>125</td>\n",
       "      <td>256</td>\n",
       "      <td>6000</td>\n",
       "      <td>256</td>\n",
       "      <td>16</td>\n",
       "      <td>128</td>\n",
       "      <td>198</td>\n",
       "      <td>199</td>\n",
       "    </tr>\n",
       "    <tr>\n",
       "      <th>1</th>\n",
       "      <td>amdahl</td>\n",
       "      <td>470v/7</td>\n",
       "      <td>29</td>\n",
       "      <td>8000</td>\n",
       "      <td>32000</td>\n",
       "      <td>32</td>\n",
       "      <td>8</td>\n",
       "      <td>32</td>\n",
       "      <td>269</td>\n",
       "      <td>253</td>\n",
       "    </tr>\n",
       "    <tr>\n",
       "      <th>2</th>\n",
       "      <td>amdahl</td>\n",
       "      <td>470v/7a</td>\n",
       "      <td>29</td>\n",
       "      <td>8000</td>\n",
       "      <td>32000</td>\n",
       "      <td>32</td>\n",
       "      <td>8</td>\n",
       "      <td>32</td>\n",
       "      <td>220</td>\n",
       "      <td>253</td>\n",
       "    </tr>\n",
       "    <tr>\n",
       "      <th>3</th>\n",
       "      <td>amdahl</td>\n",
       "      <td>470v/7b</td>\n",
       "      <td>29</td>\n",
       "      <td>8000</td>\n",
       "      <td>32000</td>\n",
       "      <td>32</td>\n",
       "      <td>8</td>\n",
       "      <td>32</td>\n",
       "      <td>172</td>\n",
       "      <td>253</td>\n",
       "    </tr>\n",
       "    <tr>\n",
       "      <th>4</th>\n",
       "      <td>amdahl</td>\n",
       "      <td>470v/7c</td>\n",
       "      <td>29</td>\n",
       "      <td>8000</td>\n",
       "      <td>16000</td>\n",
       "      <td>32</td>\n",
       "      <td>8</td>\n",
       "      <td>16</td>\n",
       "      <td>132</td>\n",
       "      <td>132</td>\n",
       "    </tr>\n",
       "  </tbody>\n",
       "</table>\n",
       "</div>"
      ],
      "text/plain": [
       "    vendor     name  MYCT  MMIN   MMAX  CACH  CHMIN  CHMAX  PRP  ERP\n",
       "0  adviser    32/60   125   256   6000   256     16    128  198  199\n",
       "1   amdahl   470v/7    29  8000  32000    32      8     32  269  253\n",
       "2   amdahl  470v/7a    29  8000  32000    32      8     32  220  253\n",
       "3   amdahl  470v/7b    29  8000  32000    32      8     32  172  253\n",
       "4   amdahl  470v/7c    29  8000  16000    32      8     16  132  132"
      ]
     },
     "execution_count": 26,
     "metadata": {},
     "output_type": "execute_result"
    }
   ],
   "source": [
    "# load data from the file\n",
    "\n",
    "colNames = ['vendor', 'name', 'MYCT', 'MMIN',\n",
    "            'MMAX', 'CACH', 'CHMIN', 'CHMAX', 'PRP', 'ERP']\n",
    "data = pd.read_csv(\"data/cpu_performance/machine.data\",\n",
    "                   delimiter=',', header=0, names=colNames)\n",
    "data.head()\n"
   ]
  },
  {
   "cell_type": "code",
   "execution_count": 27,
   "metadata": {},
   "outputs": [
    {
     "data": {
      "text/plain": [
       "dtype('int64')"
      ]
     },
     "execution_count": 27,
     "metadata": {},
     "output_type": "execute_result"
    }
   ],
   "source": [
    "# use labelencoder to facilitate computing\n",
    "X, y = data.iloc[:, 0:8], data.iloc[:, -2]\n",
    "\n",
    "# encode the 1st and 2nd columns before transforming them into\n",
    "# numpy array, or the dataframe will be transformed into an 'object',\n",
    "# which will results in an error when calculating std\n",
    "\n",
    "# X, y = data.iloc[:, 2:8], data.iloc[:, -2]\n",
    "X.iloc[:, 0] = pre.LabelEncoder().fit_transform(data.iloc[:, 0])\n",
    "X.iloc[:, 1] = pre.LabelEncoder().fit_transform(data.iloc[:, 1])\n",
    "X, y = np.array(X), np.array(y)\n",
    "# x1 = pre.LabelEncoder().fit_transform(data.iloc[:, 0])\n",
    "# x2 = pre.LabelEncoder().fit_transform(data.iloc[:, 1])\n",
    "# X = np.concatenate((x1,x2,X), axis=1)\n",
    "X.dtype"
   ]
  },
  {
   "cell_type": "code",
   "execution_count": 23,
   "metadata": {},
   "outputs": [
    {
     "data": {
      "text/plain": [
       "dtype('O')"
      ]
     },
     "execution_count": 23,
     "metadata": {},
     "output_type": "execute_result"
    }
   ],
   "source": [
    "# this cell presents a bad example!!!!!!!!!!!!!\n",
    "# if you run this cell, the next one will raise an error...\n",
    "\n",
    "X, y = data.iloc[:, 0:8], data.iloc[:, -2]\n",
    "X, y = np.array(X), np.array(y)\n",
    "X[:, 0] = pre.LabelEncoder().fit_transform(data.iloc[:, 0])\n",
    "X[:, 1] = pre.LabelEncoder().fit_transform(data.iloc[:, 1])\n",
    "X.dtype # type 'object'\n"
   ]
  },
  {
   "cell_type": "code",
   "execution_count": 28,
   "metadata": {},
   "outputs": [],
   "source": [
    "# split data into training and testing sets, and normalize all of them except yTest\n",
    "\n",
    "XTrain, XTest, yTrain, yTest = train_test_split(X, y, test_size=0.3, random_state=10)\n",
    "featMean, featStd = np.mean(XTrain, axis=0), np.std(XTrain, axis=0)\n",
    "XTrain = (XTrain - featMean) / featStd\n",
    "XTest = (XTest - featMean) / featStd"
   ]
  },
  {
   "cell_type": "code",
   "execution_count": 29,
   "metadata": {},
   "outputs": [
    {
     "data": {
      "text/plain": [
       "(146, 8)"
      ]
     },
     "execution_count": 29,
     "metadata": {},
     "output_type": "execute_result"
    },
    {
     "data": {
      "text/plain": [
       "(8,)"
      ]
     },
     "execution_count": 29,
     "metadata": {},
     "output_type": "execute_result"
    }
   ],
   "source": [
    "XTrain.shape\n",
    "featMean.shape"
   ]
  },
  {
   "cell_type": "code",
   "execution_count": 30,
   "metadata": {},
   "outputs": [],
   "source": [
    "\n",
    "# initialize parameter\n",
    "theta = np.ones(XTrain.shape[1]+1)\n",
    "\n",
    "# Concatenate X with a new dimension for bias\n",
    "XTrain = np.concatenate((np.ones((XTrain.shape[0], 1)), XTrain), axis=1)\n",
    "XTest = np.concatenate((np.ones((XTest.shape[0], 1)), XTest), axis=1)\n"
   ]
  },
  {
   "cell_type": "code",
   "execution_count": 31,
   "metadata": {},
   "outputs": [
    {
     "data": {
      "text/plain": [
       "array([ 1.        , -0.04491858, -1.40377137, -0.32089191, -0.23149947,\n",
       "       -0.68421192, -0.4487996 , -0.28102187, -0.00932839])"
      ]
     },
     "execution_count": 31,
     "metadata": {},
     "output_type": "execute_result"
    }
   ],
   "source": [
    "XTrain[0,:]"
   ]
  },
  {
   "cell_type": "code",
   "execution_count": 32,
   "metadata": {},
   "outputs": [
    {
     "name": "stdout",
     "output_type": "stream",
     "text": [
      "Epoch 0 loss: 17493.51952520403\n",
      "Epoch 50 loss: 1528.595097129908\n",
      "Epoch 100 loss: 1527.5571636339162\n",
      "Epoch 150 loss: 1527.5085781704904\n",
      "Epoch 200 loss: 1527.504976701486\n",
      "Epoch 250 loss: 1527.504701741263\n",
      "almost converged, lowering learning rate\n",
      "Epoch 300 loss: 1527.5046812194748\n",
      "almost converged, lowering learning rate\n",
      "Epoch 350 loss: 1527.5046792527944\n",
      "almost converged, lowering learning rate\n",
      "Epoch 400 loss: 1527.5046790157169\n",
      "almost converged, lowering learning rate\n",
      "Epoch 450 loss: 1527.5046789806172\n",
      "almost converged, lowering learning rate\n",
      "Epoch 500 loss: 1527.50467897437\n",
      "almost converged, lowering learning rate\n",
      "Epoch 550 loss: 1527.5046789730577\n",
      "almost converged, lowering learning rate\n",
      "solution converged, exit training\n"
     ]
    }
   ],
   "source": [
    "\n",
    "# compute hypothesis and loss\n",
    "initRate = 0.001\n",
    "learningRate = initRate\n",
    "\n",
    "# train a linear model using SGD\n",
    "numEpoch = 1000\n",
    "lossList = []\n",
    "for epoch in range(numEpoch):\n",
    "    # forward\n",
    "    hyp = XTrain@theta\n",
    "    MSE = 0.5/yTrain.shape[0]*sum((hyp-yTrain)**2)\n",
    "    grad = (hyp-yTrain)@XTrain\n",
    "    theta -= learningRate*grad\n",
    "    if epoch % 50 == 0:\n",
    "        print('Epoch', epoch, 'loss:', MSE)\n",
    "        lossList.append(MSE)\n",
    "        if len(lossList) > 5:\n",
    "            currentLoss = np.array(lossList[-5:-1])\n",
    "            if currentLoss.std()/currentLoss.mean() < 0.001:\n",
    "                learningRate *= 0.9\n",
    "                print('almost converged, lowering learning rate')\n",
    "        if learningRate/initRate < 0.5:\n",
    "            print('solution converged, exit training')\n",
    "            break\n",
    "\n"
   ]
  },
  {
   "cell_type": "code",
   "execution_count": 33,
   "metadata": {},
   "outputs": [
    {
     "name": "stdout",
     "output_type": "stream",
     "text": [
      "test error using gradient descent:  2633.9965636696174\n",
      "test error using linear algebra:  2633.9970018546173\n"
     ]
    }
   ],
   "source": [
    "# calculate the testing error of theta and compare it with algebraic solution\n",
    "hypTest = XTest@theta\n",
    "MSETest = 0.5/yTest.shape[0]*sum((hypTest-yTest)**2)\n",
    "print(\"test error using gradient descent: \", MSETest)\n",
    "\n",
    "algSolu = np.linalg.inv((XTrain.transpose()@XTrain))@XTrain.transpose()@yTrain\n",
    "algTest = XTest@algSolu\n",
    "MSEalg = 0.5/yTest.shape[0]*sum((algTest-yTest)**2)\n",
    "print(\"test error using linear algebra: \", MSEalg)"
   ]
  },
  {
   "cell_type": "code",
   "execution_count": null,
   "metadata": {},
   "outputs": [],
   "source": []
  }
 ],
 "metadata": {
  "file_extension": ".py",
  "kernelspec": {
   "display_name": "Python 3",
   "language": "python",
   "name": "python3"
  },
  "language_info": {
   "codemirror_mode": {
    "name": "ipython",
    "version": 3
   },
   "file_extension": ".py",
   "mimetype": "text/x-python",
   "name": "python",
   "nbconvert_exporter": "python",
   "pygments_lexer": "ipython3",
   "version": "3.7.3"
  },
  "mimetype": "text/x-python",
  "name": "python",
  "npconvert_exporter": "python",
  "pygments_lexer": "ipython3",
  "version": 3
 },
 "nbformat": 4,
 "nbformat_minor": 2
}
